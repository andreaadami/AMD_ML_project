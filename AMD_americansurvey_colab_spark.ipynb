{
  "nbformat": 4,
  "nbformat_minor": 0,
  "metadata": {
    "colab": {
      "name": "AMD_americansurvey_v2.ipynb",
      "provenance": [],
      "collapsed_sections": []
    },
    "kernelspec": {
      "name": "python3",
      "display_name": "Python 3"
    }
  },
  "cells": [
    {
      "cell_type": "code",
      "metadata": {
        "id": "xtfra_bImYH4",
        "colab_type": "code",
        "colab": {
          "base_uri": "https://localhost:8080/",
          "height": 537
        },
        "outputId": "c281bc7b-60f6-4e76-f72b-d03793c6645e"
      },
      "source": [
        "# don't know why but need an update\n",
        "!sudo apt update\n",
        "# install Java8\n",
        "!apt-get install openjdk-8-jdk-headless -qq > /dev/null\n",
        "# download spark3.0.1\n",
        "!wget -q http://apache.osuosl.org/spark/spark-3.0.1/spark-3.0.1-bin-hadoop3.2.tgz\n",
        "# unzip it\n",
        "!tar xf spark-3.0.1-bin-hadoop3.2.tgz\n",
        "# install findspark \n",
        "!pip install -q findspark"
      ],
      "execution_count": null,
      "outputs": [
        {
          "output_type": "stream",
          "text": [
            "Get:1 http://security.ubuntu.com/ubuntu bionic-security InRelease [88.7 kB]\n",
            "Ign:2 https://developer.download.nvidia.com/compute/cuda/repos/ubuntu1804/x86_64  InRelease\n",
            "Get:3 https://cloud.r-project.org/bin/linux/ubuntu bionic-cran35/ InRelease [3,626 B]\n",
            "Get:4 http://ppa.launchpad.net/graphics-drivers/ppa/ubuntu bionic InRelease [21.3 kB]\n",
            "Ign:5 https://developer.download.nvidia.com/compute/machine-learning/repos/ubuntu1804/x86_64  InRelease\n",
            "Hit:6 https://developer.download.nvidia.com/compute/cuda/repos/ubuntu1804/x86_64  Release\n",
            "Hit:7 http://archive.ubuntu.com/ubuntu bionic InRelease\n",
            "Get:8 https://developer.download.nvidia.com/compute/machine-learning/repos/ubuntu1804/x86_64  Release [564 B]\n",
            "Get:9 https://developer.download.nvidia.com/compute/machine-learning/repos/ubuntu1804/x86_64  Release.gpg [833 B]\n",
            "Get:10 http://archive.ubuntu.com/ubuntu bionic-updates InRelease [88.7 kB]\n",
            "Get:11 https://cloud.r-project.org/bin/linux/ubuntu bionic-cran35/ Packages [96.1 kB]\n",
            "Get:12 http://ppa.launchpad.net/marutter/c2d4u3.5/ubuntu bionic InRelease [15.4 kB]\n",
            "Get:13 http://security.ubuntu.com/ubuntu bionic-security/main amd64 Packages [1,089 kB]\n",
            "Get:15 http://archive.ubuntu.com/ubuntu bionic-backports InRelease [74.6 kB]\n",
            "Get:16 http://security.ubuntu.com/ubuntu bionic-security/multiverse amd64 Packages [10.1 kB]\n",
            "Get:17 http://security.ubuntu.com/ubuntu bionic-security/universe amd64 Packages [897 kB]\n",
            "Get:18 http://security.ubuntu.com/ubuntu bionic-security/restricted amd64 Packages [116 kB]\n",
            "Get:19 https://developer.download.nvidia.com/compute/machine-learning/repos/ubuntu1804/x86_64  Packages [47.5 kB]\n",
            "Get:20 http://ppa.launchpad.net/graphics-drivers/ppa/ubuntu bionic/main amd64 Packages [43.0 kB]\n",
            "Get:21 http://archive.ubuntu.com/ubuntu bionic-updates/main amd64 Packages [1,384 kB]\n",
            "Get:22 http://ppa.launchpad.net/marutter/c2d4u3.5/ubuntu bionic/main Sources [1,867 kB]\n",
            "Get:23 http://archive.ubuntu.com/ubuntu bionic-updates/universe amd64 Packages [1,425 kB]\n",
            "Get:24 http://archive.ubuntu.com/ubuntu bionic-updates/restricted amd64 Packages [132 kB]\n",
            "Get:25 http://archive.ubuntu.com/ubuntu bionic-updates/multiverse amd64 Packages [27.7 kB]\n",
            "Get:26 http://ppa.launchpad.net/marutter/c2d4u3.5/ubuntu bionic/main amd64 Packages [901 kB]\n",
            "Fetched 8,331 kB in 3s (2,847 kB/s)\n",
            "Reading package lists... Done\n",
            "Building dependency tree       \n",
            "Reading state information... Done\n",
            "77 packages can be upgraded. Run 'apt list --upgradable' to see them.\n"
          ],
          "name": "stdout"
        }
      ]
    },
    {
      "cell_type": "code",
      "metadata": {
        "id": "6ZmV-nYpmqJT",
        "colab_type": "code",
        "colab": {}
      },
      "source": [
        "import os\n",
        "os.environ[\"JAVA_HOME\"] = \"/usr/lib/jvm/java-8-openjdk-amd64\"\n",
        "os.environ[\"SPARK_HOME\"] = \"/content/spark-3.0.1-bin-hadoop3.2\"\n",
        "\n",
        "import findspark\n",
        "findspark.init()"
      ],
      "execution_count": null,
      "outputs": []
    },
    {
      "cell_type": "code",
      "metadata": {
        "id": "ML93dkNvmyd-",
        "colab_type": "code",
        "colab": {
          "resources": {
            "http://localhost:8080/nbextensions/google.colab/files.js": {
              "data": "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",
              "ok": true,
              "headers": [
                [
                  "content-type",
                  "application/javascript"
                ]
              ],
              "status": 200,
              "status_text": ""
            }
          },
          "base_uri": "https://localhost:8080/",
          "height": 86
        },
        "outputId": "49a3d428-31ae-41e8-fe11-f38270ad8841"
      },
      "source": [
        "from google.colab import files\n",
        "files.upload()"
      ],
      "execution_count": null,
      "outputs": [
        {
          "output_type": "display_data",
          "data": {
            "text/html": [
              "\n",
              "     <input type=\"file\" id=\"files-7a052f4d-8b56-490b-8d12-28df4df537a6\" name=\"files[]\" multiple disabled\n",
              "        style=\"border:none\" />\n",
              "     <output id=\"result-7a052f4d-8b56-490b-8d12-28df4df537a6\">\n",
              "      Upload widget is only available when the cell has been executed in the\n",
              "      current browser session. Please rerun this cell to enable.\n",
              "      </output>\n",
              "      <script src=\"/nbextensions/google.colab/files.js\"></script> "
            ],
            "text/plain": [
              "<IPython.core.display.HTML object>"
            ]
          },
          "metadata": {
            "tags": []
          }
        },
        {
          "output_type": "stream",
          "text": [
            "Saving kaggle.json to kaggle.json\n"
          ],
          "name": "stdout"
        },
        {
          "output_type": "execute_result",
          "data": {
            "text/plain": [
              "{'kaggle.json': b'{\"username\":\"USERNAME\",\"key\":\"KAGGLE_KEY\"}'}"
            ]
          },
          "metadata": {
            "tags": []
          },
          "execution_count": 3
        }
      ]
    },
    {
      "cell_type": "code",
      "metadata": {
        "id": "RdmSqBGQm7-N",
        "colab_type": "code",
        "colab": {
          "base_uri": "https://localhost:8080/",
          "height": 69
        },
        "outputId": "c89e37b1-90ec-4133-bff7-4b3a60519b00"
      },
      "source": [
        "# run this code in order to provide the API and connect to Kaggle\n",
        "!mkdir -p ~/.kaggle\n",
        "!cp kaggle.json ~/.kaggle/\n",
        "!chmod 600 ~/.kaggle/kaggle.json\n",
        "# this command is used to access \"census/2013...\" and download the zip file\n",
        "!kaggle datasets download -d census/2013-american-community-survey"
      ],
      "execution_count": null,
      "outputs": [
        {
          "output_type": "stream",
          "text": [
            "Downloading 2013-american-community-survey.zip to /content\n",
            "100% 912M/916M [00:21<00:00, 41.8MB/s]\n",
            "100% 916M/916M [00:21<00:00, 44.6MB/s]\n"
          ],
          "name": "stdout"
        }
      ]
    },
    {
      "cell_type": "code",
      "metadata": {
        "id": "UQr-FYPdm8PC",
        "colab_type": "code",
        "colab": {}
      },
      "source": [
        "# now that everything is set, we need to unzip the file and load in the notebook \n",
        "import zipfile\n",
        "zip_ref = zipfile.ZipFile('2013-american-community-survey.zip', 'r')\n",
        "zip_ref.extractall('files')\n",
        "zip_ref.close()"
      ],
      "execution_count": null,
      "outputs": []
    },
    {
      "cell_type": "code",
      "metadata": {
        "id": "oC8Uu4U_m8Lg",
        "colab_type": "code",
        "colab": {}
      },
      "source": [
        "import matplotlib.pyplot as plt\n",
        "import pandas as pd\n",
        "import numpy as np\n",
        "import pandas as pd\n",
        "import librosa\n",
        "import statistics \n",
        "import glob\n",
        "import plotly.express as px\n",
        "from pathlib import Path\n",
        "from pyspark.ml.linalg import Vectors\n",
        "from pyspark.ml.feature import VectorAssembler  \n",
        "from pyspark.ml.evaluation import ClusteringEvaluator\n",
        "from pyspark.ml.clustering import BisectingKMeans\n",
        "from pyspark.ml.stat import Correlation\n",
        "from pyspark.ml.feature import PCA\n",
        "from pyspark.sql import SparkSession\n",
        "from pyspark.sql.types import *\n",
        "from pyspark.sql.functions import *"
      ],
      "execution_count": null,
      "outputs": []
    },
    {
      "cell_type": "code",
      "metadata": {
        "id": "IM_CqJ5Om8H_",
        "colab_type": "code",
        "colab": {}
      },
      "source": [
        "# Build the SparkSession\n",
        "spark = SparkSession.builder \\\n",
        "   .master(\"local\") \\\n",
        "   .appName(\"Linear Regression Model\") \\\n",
        "   .config(\"spark.executor.memory\", \"2gb\") \\\n",
        "   .getOrCreate()\n",
        "   \n",
        "sc = spark.sparkContext"
      ],
      "execution_count": null,
      "outputs": []
    },
    {
      "cell_type": "code",
      "metadata": {
        "id": "0ni_SXJBnSq2",
        "colab_type": "code",
        "colab": {
          "base_uri": "https://localhost:8080/",
          "height": 176
        },
        "outputId": "e407e53b-5606-4be0-ba2e-97b0dc649bf3"
      },
      "source": [
        "data_a = spark.read.csv('/content/files/ss13pusa.csv',header=True, inferSchema=True)#load the data and get a row (this is a dataframe)\n",
        "data_b = spark.read.csv('/content/files/ss13pusb.csv',header=True, inferSchema=True) \n",
        "\n",
        "data = data_a.union(data_b)\n",
        "\n",
        "data.show(2)"
      ],
      "execution_count": null,
      "outputs": [
        {
          "output_type": "stream",
          "text": [
            "+---+--------+-------+----+---+-------+-----+----+---+-----+----+----+----+----+----+----+----+-----+----+----+----+----+----+----+-----+-----+-----+-----+-----+-----+-----+----+-----+-----+----+----+---+-----+-----+-----+-----+------+---+---+----+----+-----+----+-----+----+----+----+----+----+----+----+----+----+---+---+----+----+---+----+----+----+---+----+---+-----+----+---+----+---+----+---+-----+-----+------+---+-------+----+---+-----+-----+-----+----+----+----+----+----+-------+-----+---+------+--------+----+---+----+----+-----+-----+----+------+-------+-----+-------+------+------+-----+-----+-----+-------+------+------+-----+------+-----+------+------+---+-------+---------+----+----+------+----+----+-----+-----+-----+------+-----+------+------+------+-----+------+------+------+-------+------+-----+-----+-----+-----+-----+-----+-----+-------+-------+-------+-------+-------+-------+-------+-------+-------+-------+-----+-----+-----+-----+------+------+------+-----+------+-------+-------+-------+-------+-------+-----+-----+------+------+------+-----+----+----+------+------+-----+------+---------+--------+-----+-----+-----+------+------+-----+-----+-----+-----+----+-----+-----+-----+-----+-----+-----+------+------+------+------+------+------+------+------+------+-------+-------+-------+-------+-------+-------+-------+-------+-------+-------+-------+-------+-------+-------+-------+-------+-------+-------+-------+-------+-------+-------+-------+-------+-------+-------+-------+-------+-------+-------+-------+-------+-------+-------+-------+-------+-------+-------+-------+-------+-------+-------+-------+-------+-------+-------+-------+-------+-------+-------+-------+-------+-------+-------+-------+-------+-------+-------+-------+-------+-------+-------+-------+-------+-------+-------+-------+-------+-------+-------+-------+\n",
            "| RT|SERIALNO|SPORDER|PUMA| ST| ADJINC|PWGTP|AGEP|CIT|CITWP| COW|DDRS|DEAR|DEYE|DOUT|DPHY|DRAT|DRATX|DREM| ENG| FER| GCL| GCM| GCR|HINS1|HINS2|HINS3|HINS4|HINS5|HINS6|HINS7|INTP|JWMNP|JWRIP|JWTR|LANX|MAR|MARHD|MARHM|MARHT|MARHW|MARHYP|MIG|MIL|MLPA|MLPB|MLPCD|MLPE|MLPFG|MLPH|MLPI|MLPJ|MLPK|NWAB|NWAV|NWLA|NWLK|NWRE|OIP|PAP|RELP|RETP|SCH|SCHG|SCHL|SEMP|SEX|SSIP|SSP| WAGP|WKHP|WKL| WKW|WRK|YOEP|ANC|ANC1P|ANC2P|DECADE|DIS|DRIVESP| ESP|ESR|FOD1P|FOD2P|HICOV|HISP|INDP|JWAP|JWDP|LANP|MIGPUMA|MIGSP|MSP|NAICSP|NATIVITY| NOP| OC|OCCP|PAOC|PERNP|PINCP|POBP|POVPIP|POWPUMA|POWSP|PRIVCOV|PUBCOV|QTRBIR|RAC1P|RAC2P|RAC3P|RACAIAN|RACASN|RACBLK|RACNH|RACNUM|RACPI|RACSOR|RACWHT| RC|SCIENGP|SCIENGRLP| SFN| SFR|  SOCP| VPS|WAOB|FAGEP|FANCP|FCITP|FCITWP|FCOWP|FDDRSP|FDEARP|FDEYEP|FDISP|FDOUTP|FDPHYP|FDRATP|FDRATXP|FDREMP|FENGP|FESRP|FFERP|FFODP|FGCLP|FGCMP|FGCRP|FHINS1P|FHINS2P|FHINS3C|FHINS3P|FHINS4C|FHINS4P|FHINS5C|FHINS5P|FHINS6P|FHINS7P|FHISP|FINDP|FINTP|FJWDP|FJWMNP|FJWRIP|FJWTRP|FLANP|FLANXP|FMARHDP|FMARHMP|FMARHTP|FMARHWP|FMARHYP|FMARP|FMIGP|FMIGSP|FMILPP|FMILSP|FOCCP|FOIP|FPAP|FPERNP|FPINCP|FPOBP|FPOWSP|FPRIVCOVP|FPUBCOVP|FRACP|FRELP|FRETP|FSCHGP|FSCHLP|FSCHP|FSEMP|FSEXP|FSSIP|FSSP|FWAGP|FWKHP|FWKLP|FWKWP|FWRKP|FYOEP|pwgtp1|pwgtp2|pwgtp3|pwgtp4|pwgtp5|pwgtp6|pwgtp7|pwgtp8|pwgtp9|pwgtp10|pwgtp11|pwgtp12|pwgtp13|pwgtp14|pwgtp15|pwgtp16|pwgtp17|pwgtp18|pwgtp19|pwgtp20|pwgtp21|pwgtp22|pwgtp23|pwgtp24|pwgtp25|pwgtp26|pwgtp27|pwgtp28|pwgtp29|pwgtp30|pwgtp31|pwgtp32|pwgtp33|pwgtp34|pwgtp35|pwgtp36|pwgtp37|pwgtp38|pwgtp39|pwgtp40|pwgtp41|pwgtp42|pwgtp43|pwgtp44|pwgtp45|pwgtp46|pwgtp47|pwgtp48|pwgtp49|pwgtp50|pwgtp51|pwgtp52|pwgtp53|pwgtp54|pwgtp55|pwgtp56|pwgtp57|pwgtp58|pwgtp59|pwgtp60|pwgtp61|pwgtp62|pwgtp63|pwgtp64|pwgtp65|pwgtp66|pwgtp67|pwgtp68|pwgtp69|pwgtp70|pwgtp71|pwgtp72|pwgtp73|pwgtp74|pwgtp75|pwgtp76|pwgtp77|pwgtp78|pwgtp79|pwgtp80|\n",
            "+---+--------+-------+----+---+-------+-----+----+---+-----+----+----+----+----+----+----+----+-----+----+----+----+----+----+----+-----+-----+-----+-----+-----+-----+-----+----+-----+-----+----+----+---+-----+-----+-----+-----+------+---+---+----+----+-----+----+-----+----+----+----+----+----+----+----+----+----+---+---+----+----+---+----+----+----+---+----+---+-----+----+---+----+---+----+---+-----+-----+------+---+-------+----+---+-----+-----+-----+----+----+----+----+----+-------+-----+---+------+--------+----+---+----+----+-----+-----+----+------+-------+-----+-------+------+------+-----+-----+-----+-------+------+------+-----+------+-----+------+------+---+-------+---------+----+----+------+----+----+-----+-----+-----+------+-----+------+------+------+-----+------+------+------+-------+------+-----+-----+-----+-----+-----+-----+-----+-------+-------+-------+-------+-------+-------+-------+-------+-------+-------+-----+-----+-----+-----+------+------+------+-----+------+-------+-------+-------+-------+-------+-----+-----+------+------+------+-----+----+----+------+------+-----+------+---------+--------+-----+-----+-----+------+------+-----+-----+-----+-----+----+-----+-----+-----+-----+-----+-----+------+------+------+------+------+------+------+------+------+-------+-------+-------+-------+-------+-------+-------+-------+-------+-------+-------+-------+-------+-------+-------+-------+-------+-------+-------+-------+-------+-------+-------+-------+-------+-------+-------+-------+-------+-------+-------+-------+-------+-------+-------+-------+-------+-------+-------+-------+-------+-------+-------+-------+-------+-------+-------+-------+-------+-------+-------+-------+-------+-------+-------+-------+-------+-------+-------+-------+-------+-------+-------+-------+-------+-------+-------+-------+-------+-------+-------+\n",
            "|  P|      84|      1|2600|  1|1007549|   65|  19|  1| null|null|   2|   2|   2|   2|   2|null| null|   2|null|   2|null|null|null|    1|    2|    2|    2|    2|    2|    2|   0| null| null|null|   2|  5| null| null| null| null|  null|  1|  4|null|null| null|null| null|null|null|null|null|   2|   5|   2|   2|   3|  0|  0|  17|   0|  2|  15|  19|   0|  2|   0|  0|    0|null|  3|null|  2|null|  4|  999|  999|  null|  2|   null|null|  6| null| null|    1|   1|null|null|null|null|   null| null|  6|  null|       1|null|  0|null|null|    0|    0|  28|  null|   null| null|      1|     2|     1|    1|    1|    1|      0|     0|     0|    0|     1|    0|     0|     1|  0|   null|     null|null|null|  null|null|   1|    0|    0|    0|     0|    0|     0|     0|     0|    0|     0|     0|     0|      0|     0|    0|    0|    0|    0|    0|    0|    0|      0|      0|   null|      0|   null|      0|   null|      0|      0|      0|    0|    0|    0|    0|     0|     0|     0|    0|     0|      0|      0|      0|      0|      0|    0|    0|     0|     0|     0|    0|   0|   0|     0|     0|    0|     0|        0|       0|    0|    0|    0|     0|     0|    0|    0|    0|    0|   0|    0|    0|    0|    0|    0|    0|     5|   127|    65|    66|    69|     5|   120|    66|    63|      5|     67|      6|      5|    137|    124|     65|     66|     64|     63|      6|    131|      6|     62|     63|     60|    126|      6|     66|     68|    120|     66|    126|    115|      5|      5|     63|     66|     66|     62|      5|    118|      6|     64|     66|     62|    124|      6|     63|     68|    132|     62|    119|    126|      6|      5|     68|     72|     65|     66|    125|      5|    123|     62|     64|     65|      6|    123|     65|     67|      6|     68|      6|      5|    127|    119|     63|     68|     67|     64|    122|\n",
            "|  P|     154|      1|2500|  1|1007549|   51|  55|  1| null|   1|   2|   2|   2|   2|   2|null| null|   2|null|null|   2|null|null|    1|    2|    2|    2|    2|    2|    2|   0|   30|    1|   1|   2|  1|    2|    2|    1|    2|  1990|  1|  4|null|null| null|null| null|null|null|null|null|   3|   5|   3|   3|   3|  0|  0|   0|   0|  1|null|  20|   0|  2|   0|  0|52000|  40|  1|   1|  1|null|  1|  902|  999|  null|  2|      1|null|  1| null| null|    1|   1|5380| 100|  55|null|   null| null|  1| 45211|       1|null|  0|4700|   4|52000|52000|   1|   501|   2500|    1|      1|     2|     1|    2|    2|    2|      0|     0|     1|    0|     1|    0|     0|     0|  0|   null|     null|null|null|411011|null|   1|    0|    0|    0|     0|    0|     0|     0|     0|    0|     0|     0|     0|      0|     0|    0|    0|    0|    0|    0|    0|    0|      0|      0|   null|      0|   null|      0|   null|      0|      0|      0|    0|    0|    0|    0|     0|     0|     0|    0|     0|      0|      0|      0|      0|      0|    0|    0|     0|     0|     0|    0|   0|   0|     1|     1|    0|     0|        0|       0|    0|    0|    0|     0|     0|    0|    0|    0|    0|   0|    1|    0|    0|    0|    0|    0|    45|    51|    53|    50|   100|    79|    78|    50|    19|     57|     89|     46|     67|    109|     50|     18|     17|     18|     46|     88|     49|     50|     49|     65|     13|     16|     16|     54|     85|     48|     14|     49|     50|     11|     56|     83|     71|    108|     54|     81|     43|     52|     50|     63|     17|     15|     15|     47|     88|     47|     13|     51|     52|     20|     53|     84|     78|     75|     53|     15|     55|     55|     58|     65|    110|     82|     90|     50|     12|     55|     87|     52|     60|     84|     50|     15|     15|     20|     50|     16|\n",
            "+---+--------+-------+----+---+-------+-----+----+---+-----+----+----+----+----+----+----+----+-----+----+----+----+----+----+----+-----+-----+-----+-----+-----+-----+-----+----+-----+-----+----+----+---+-----+-----+-----+-----+------+---+---+----+----+-----+----+-----+----+----+----+----+----+----+----+----+----+---+---+----+----+---+----+----+----+---+----+---+-----+----+---+----+---+----+---+-----+-----+------+---+-------+----+---+-----+-----+-----+----+----+----+----+----+-------+-----+---+------+--------+----+---+----+----+-----+-----+----+------+-------+-----+-------+------+------+-----+-----+-----+-------+------+------+-----+------+-----+------+------+---+-------+---------+----+----+------+----+----+-----+-----+-----+------+-----+------+------+------+-----+------+------+------+-------+------+-----+-----+-----+-----+-----+-----+-----+-------+-------+-------+-------+-------+-------+-------+-------+-------+-------+-----+-----+-----+-----+------+------+------+-----+------+-------+-------+-------+-------+-------+-----+-----+------+------+------+-----+----+----+------+------+-----+------+---------+--------+-----+-----+-----+------+------+-----+-----+-----+-----+----+-----+-----+-----+-----+-----+-----+------+------+------+------+------+------+------+------+------+-------+-------+-------+-------+-------+-------+-------+-------+-------+-------+-------+-------+-------+-------+-------+-------+-------+-------+-------+-------+-------+-------+-------+-------+-------+-------+-------+-------+-------+-------+-------+-------+-------+-------+-------+-------+-------+-------+-------+-------+-------+-------+-------+-------+-------+-------+-------+-------+-------+-------+-------+-------+-------+-------+-------+-------+-------+-------+-------+-------+-------+-------+-------+-------+-------+-------+-------+-------+-------+-------+-------+\n",
            "only showing top 2 rows\n",
            "\n"
          ],
          "name": "stdout"
        }
      ]
    },
    {
      "cell_type": "code",
      "metadata": {
        "id": "sPrmbgvCrbfv",
        "colab_type": "code",
        "colab": {}
      },
      "source": [
        "#transforming all the dataframe columns to int for correctly fill Nan and null value\n",
        "\n",
        "from pyspark.sql.types import IntegerType\n",
        "for col in data.columns:\n",
        "  data = data.withColumn(col,data[col].cast(IntegerType()))\n",
        "\n",
        "data = data.na.fill(0) "
      ],
      "execution_count": null,
      "outputs": []
    },
    {
      "cell_type": "code",
      "metadata": {
        "id": "Nvq4I5uWrfLk",
        "colab_type": "code",
        "colab": {
          "base_uri": "https://localhost:8080/",
          "height": 208
        },
        "outputId": "45533bd4-6378-46ad-d1dc-2c3be7c91486"
      },
      "source": [
        "#removing the PERNP column\n",
        "new_col = data.columns\n",
        "new_col.remove('PERNP')\n",
        "new_col.remove('PINCP')\n",
        "\n",
        "\n",
        "\n",
        "\n",
        "vectorAssembler = VectorAssembler(inputCols = new_col,    \n",
        "                                  outputCol = 'features') \n",
        "\n",
        "\n",
        "df_full = vectorAssembler.transform(data)\n",
        "df_full = df_full.select(['features', 'PINCP'])\n",
        "\n",
        "\n",
        "df_full.show(5)"
      ],
      "execution_count": null,
      "outputs": [
        {
          "output_type": "stream",
          "text": [
            "+--------------------+-----+\n",
            "|            features|PINCP|\n",
            "+--------------------+-----+\n",
            "|(281,[1,2,3,4,5,6...|    0|\n",
            "|(281,[1,2,3,4,5,6...|52000|\n",
            "|(281,[1,2,3,4,5,6...|99000|\n",
            "|(281,[1,2,3,4,5,6...|    0|\n",
            "|(281,[1,2,3,4,5,6...|    0|\n",
            "+--------------------+-----+\n",
            "only showing top 5 rows\n",
            "\n"
          ],
          "name": "stdout"
        }
      ]
    },
    {
      "cell_type": "code",
      "metadata": {
        "id": "DcNU7Ig_rvpE",
        "colab_type": "code",
        "colab": {
          "base_uri": "https://localhost:8080/",
          "height": 208
        },
        "outputId": "6a42b8d1-5f84-457e-e881-6c56c6585449"
      },
      "source": [
        "from pyspark.ml.feature import PCA\n",
        "from pyspark.ml.linalg import Vectors\n",
        "\n",
        "pca = PCA(k=20, \n",
        "          inputCol=\"features\", \n",
        "          outputCol=\"pcaFeatures\")\n",
        "\n",
        "model = pca.fit(df_full)\n",
        "\n",
        "result = model.transform(df_full)\n",
        "result.show(5)"
      ],
      "execution_count": null,
      "outputs": [
        {
          "output_type": "stream",
          "text": [
            "+--------------------+-----+--------------------+\n",
            "|            features|PINCP|         pcaFeatures|\n",
            "+--------------------+-----+--------------------+\n",
            "|(281,[1,2,3,4,5,6...|    0|[-84.065349464680...|\n",
            "|(281,[1,2,3,4,5,6...|52000|[-239.98024490026...|\n",
            "|(281,[1,2,3,4,5,6...|99000|[-260.53340347800...|\n",
            "|(281,[1,2,3,4,5,6...|    0|[-154.06172172305...|\n",
            "|(281,[1,2,3,4,5,6...|    0|[-154.06242385407...|\n",
            "+--------------------+-----+--------------------+\n",
            "only showing top 5 rows\n",
            "\n"
          ],
          "name": "stdout"
        }
      ]
    },
    {
      "cell_type": "code",
      "metadata": {
        "id": "PrhiCWB-sCdi",
        "colab_type": "code",
        "colab": {
          "base_uri": "https://localhost:8080/",
          "height": 156
        },
        "outputId": "02529a1a-ea96-4fd1-cc57-5254e7d8c056"
      },
      "source": [
        "from pyspark.ml.feature import MinMaxScaler\n",
        "from pyspark.ml.feature import MaxAbsScaler\n",
        "from pyspark.sql.functions import col\n",
        "# train test split \n",
        "split_df_pp = result.randomSplit([0.75, 0.25])\n",
        "df_train = split_df_pp[0]\n",
        "df_test = split_df_pp[1]\n",
        "\n",
        "#here we can put a good condition on PINCP > 0 \n",
        "\n",
        "\n",
        "##Scaling DenseVector (input)\n",
        "\n",
        "#maxAbs scaler\n",
        "scaler = MaxAbsScaler(inputCol=\"pcaFeatures\", outputCol=\"scaled_pca_Features\")\n",
        "scalerModel = scaler.fit(df_train)\n",
        "#scaled train\n",
        "df_pp_train = scalerModel.transform(df_train)\n",
        "#scaled test\n",
        "df_pp_test = scalerModel.transform(df_test) #it is transformed in accordance with range of train\n",
        "\n",
        "\n",
        "\n",
        "##Scaling Target variable (PINCP)\n",
        "\n",
        "min_ = df_pp_train.agg({\"PINCP\": \"min\"}).collect()[0][0]\n",
        "max_ = df_pp_train.agg({\"PINCP\": \"max\"}).collect()[0][0]\n",
        "\n",
        "#scaled train\n",
        "df_pp_train = df_pp_train.withColumn('scaled_PINCP', (col('PINCP') - min_ )/ max_)\n",
        "#scaled test\n",
        "df_pp_test = df_pp_test.withColumn('scaled_PINCP', (col('PINCP')-min_ )/ max_) #it is transformed in accordance with range of train\n",
        "\n",
        "\n",
        "df_pp_train.show(2)"
      ],
      "execution_count": null,
      "outputs": [
        {
          "output_type": "stream",
          "text": [
            "+--------------------+-----+--------------------+--------------------+-------------------+\n",
            "|            features|PINCP|         pcaFeatures| scaled_pca_Features|       scaled_PINCP|\n",
            "+--------------------+-----+--------------------+--------------------+-------------------+\n",
            "|(281,[1,2,3,4,5,6...|76400|[-1346063.6211065...|[-0.9015539176260...|0.07053291536050156|\n",
            "|(281,[1,2,3,4,5,6...|45880|[-577225.43648477...|[-0.3866086605835...|0.04661442006269592|\n",
            "+--------------------+-----+--------------------+--------------------+-------------------+\n",
            "only showing top 2 rows\n",
            "\n"
          ],
          "name": "stdout"
        }
      ]
    },
    {
      "cell_type": "code",
      "metadata": {
        "id": "Y4hPfyD3ztWi",
        "colab_type": "code",
        "colab": {
          "base_uri": "https://localhost:8080/",
          "height": 208
        },
        "outputId": "b9034b4d-72df-4ea0-a974-94a43b9da30a"
      },
      "source": [
        "## boost it! scaled\n",
        "from pyspark.ml.regression import GBTRegressor\n",
        "\n",
        "gbt = GBTRegressor(featuresCol = 'scaled_pca_Features', \n",
        "                   labelCol = 'scaled_PINCP',\n",
        "                   maxIter=10,\n",
        "                   #maxDepth = ,\n",
        "                   #stepSize = ,\n",
        "                   seed = 123,\n",
        "                   )\n",
        "\n",
        "#fitting the model on train data\n",
        "gbt_model = gbt.fit(df_pp_train)\n",
        "\n",
        "#prediction on test data\n",
        "gbt_predictions = gbt_model.transform(df_pp_test)\n",
        "\n",
        "gbt_predictions.select('prediction','scaled_PINCP', 'PINCP', 'features').show(5)"
      ],
      "execution_count": null,
      "outputs": [
        {
          "output_type": "stream",
          "text": [
            "+-------------------+-------------------+------+--------------------+\n",
            "|         prediction|       scaled_PINCP| PINCP|            features|\n",
            "+-------------------+-------------------+------+--------------------+\n",
            "|0.03917944637495162|0.05550314465408805| 57000|(281,[1,2,3,4,5,6...|\n",
            "|0.16768133677676733|0.20605345911949685|248500|(281,[1,2,3,4,5,6...|\n",
            "|0.11596047294714994|0.12067610062893082|139900|(281,[1,2,3,4,5,6...|\n",
            "|0.08335437162907182|0.10015723270440252|113800|(281,[1,2,3,4,5,6...|\n",
            "|0.11568238627135882|0.08679245283018867| 96800|(281,[1,2,3,4,5,6...|\n",
            "+-------------------+-------------------+------+--------------------+\n",
            "only showing top 5 rows\n",
            "\n"
          ],
          "name": "stdout"
        }
      ]
    },
    {
      "cell_type": "code",
      "metadata": {
        "id": "E6k_VH6mDoA8",
        "colab_type": "code",
        "colab": {
          "base_uri": "https://localhost:8080/"
        },
        "outputId": "d87bbe88-a45a-49ee-9c3d-8879b10289fd"
      },
      "source": [
        "from pyspark.ml.evaluation import RegressionEvaluator\n",
        "gbt_evaluator = RegressionEvaluator(\n",
        "    labelCol=\"scaled_PINCP\", predictionCol=\"prediction\", metricName=\"rmse\")\n",
        "rmse = gbt_evaluator.evaluate(gbt_predictions)\n",
        "\n",
        "gbt_evaluator = RegressionEvaluator(\n",
        "    labelCol=\"scaled_PINCP\", predictionCol=\"prediction\", metricName=\"r2\")\n",
        "r2 = gbt_evaluator.evaluate(gbt_predictions)\n",
        "\n",
        "print(\"Root Mean Squared Error (RMSE) on test data = %g\" % rmse)\n",
        "print(\"R Squared (R2) on test data = %g\" % r2)"
      ],
      "execution_count": null,
      "outputs": [
        {
          "output_type": "stream",
          "text": [
            "Root Mean Squared Error (RMSE) on test data = 0.0101282\n",
            "R Squared (R2) on test data = 0.935693\n"
          ],
          "name": "stdout"
        }
      ]
    },
    {
      "cell_type": "code",
      "metadata": {
        "id": "8MbcdEMEJ15u",
        "colab_type": "code",
        "colab": {}
      },
      "source": [
        "# https://spark.apache.org/docs/latest/ml-classification-regression.html\n",
        "# https://spark.apache.org/docs/latest/mllib-linear-methods.html"
      ],
      "execution_count": null,
      "outputs": []
    },
    {
      "cell_type": "code",
      "metadata": {
        "id": "A-bysQtJfhkl",
        "colab_type": "code",
        "colab": {
          "base_uri": "https://localhost:8080/",
          "height": 592
        },
        "outputId": "6793f518-a509-4ceb-dc33-51d033950621"
      },
      "source": [
        "from pyspark.ml.regression import LinearRegression\n",
        "\n",
        "#define the model\n",
        "lr_ridge = LinearRegression(featuresCol = 'scaled_pca_Features', \n",
        "                            labelCol = 'scaled_PINCP',\n",
        "                            maxIter=2,\n",
        "                            regParam=0.8, \n",
        "                            elasticNetParam=0) #lasso condition (alpha = 0)\n",
        "\n",
        "# Fit the model\n",
        "lr_ridge_model = lr_ridge.fit(df_pp_train)\n",
        "\n",
        "# Print the coefficients and intercept for linear regression\n",
        "print(\"Coefficients: %s\" % str(lr_ridge_model.coefficients))\n",
        "print(\"Intercept: %s\" % str(lr_ridge_model.intercept))\n",
        "\n",
        "# Summarize the model over the training set and print out some metrics\n",
        "trainingSummary = lr_ridge_model.summary\n",
        "print(\"numIterations: %d\" % trainingSummary.totalIterations)\n",
        "print(\"objectiveHistory: %s\" % str(trainingSummary.objectiveHistory))\n",
        "trainingSummary.residuals.show()\n",
        "print(\"RMSE: %f\" % trainingSummary.rootMeanSquaredError)\n",
        "print(\"r2: %f\" % trainingSummary.r2)"
      ],
      "execution_count": null,
      "outputs": [
        {
          "output_type": "stream",
          "text": [
            "Coefficients: [4.1606986510062495e-07,0.0010195423040238586,-0.0004431341433859792,0.024654530399565774,0.020233684037871954,0.009662505345729898,0.00011822581293560417,0.007467572422878289,-0.0017117885785917688,-0.00021453347978572936,-0.0027291229990445026,-7.383865081190122e-05,6.399079936360878e-05,-3.88120915809985e-05,-0.0011515043440148548,-3.107482610126811e-06,-2.05682531449725e-05,-2.8393335086804862e-05,-1.999962602359967e-05,-6.271668683527372e-06]\n",
            "Intercept: 0.03252665018992613\n",
            "numIterations: 1\n",
            "objectiveHistory: [0.0]\n",
            "+--------------------+\n",
            "|           residuals|\n",
            "+--------------------+\n",
            "|0.034910237447102394|\n",
            "|0.012207788265207908|\n",
            "|0.014530434972803034|\n",
            "|0.002628050193462...|\n",
            "| 0.01118218696607684|\n",
            "|0.015123985536569219|\n",
            "|-0.00511170142690609|\n",
            "|-0.02191718131262...|\n",
            "| 0.02048548948656418|\n",
            "|-0.00904884033287...|\n",
            "|-0.00867480487506...|\n",
            "| 0.04495535676232316|\n",
            "| 0.16292985850655606|\n",
            "|0.022724254306736295|\n",
            "| 0.08214149809970944|\n",
            "| 0.04539847170278605|\n",
            "| 0.06901729297268024|\n",
            "| 0.09323169010797933|\n",
            "|0.023008229482408653|\n",
            "|-0.01782429242379...|\n",
            "+--------------------+\n",
            "only showing top 20 rows\n",
            "\n",
            "RMSE: 0.037751\n",
            "r2: 0.092158\n"
          ],
          "name": "stdout"
        }
      ]
    },
    {
      "cell_type": "code",
      "metadata": {
        "id": "LmB4ki_loO0d",
        "colab_type": "code",
        "colab": {
          "base_uri": "https://localhost:8080/",
          "height": 52
        },
        "outputId": "07f4b6d0-c536-4697-c166-f671e4d1e068"
      },
      "source": [
        "#prediction on test data\n",
        "ridge_predictions = lr_ridge_model.transform(df_pp_test)\n",
        "\n",
        "\n",
        "ridge_evaluator = RegressionEvaluator(\n",
        "    labelCol=\"scaled_PINCP\", predictionCol=\"prediction\", metricName=\"rmse\")\n",
        "rmse_ridge = ridge_evaluator.evaluate(ridge_predictions)\n",
        "\n",
        "ridge_evaluator = RegressionEvaluator(\n",
        "    labelCol=\"scaled_PINCP\", predictionCol=\"prediction\", metricName=\"r2\")\n",
        "r2_ridge = ridge_evaluator.evaluate(ridge_predictions)\n",
        "\n",
        "print(\"Root Mean Squared Error (RMSE) on test data = %g\" % rmse_ridge)\n",
        "print(\"R Squared (R2) on test data = %g\" % r2_ridge)"
      ],
      "execution_count": null,
      "outputs": [
        {
          "output_type": "stream",
          "text": [
            "Root Mean Squared Error (RMSE) on test data = 0.0377814\n",
            "R Squared (R2) on test data = 0.0921576\n"
          ],
          "name": "stdout"
        }
      ]
    },
    {
      "cell_type": "code",
      "metadata": {
        "id": "PpGXjLtAmzPk",
        "colab_type": "code",
        "colab": {
          "base_uri": "https://localhost:8080/",
          "height": 468
        },
        "outputId": "1f07c399-7a14-4241-8dac-666ae192753a"
      },
      "source": [
        "### modelling with trainvalidation split (Linear regression)\n",
        "from pyspark.ml.tuning import ParamGridBuilder, TrainValidationSplit\n",
        "from pyspark.ml.regression import LinearRegression\n",
        "from pyspark.ml.evaluation import RegressionEvaluator\n",
        "\n",
        "##here train test split\n",
        "\n",
        "lin_reg = LinearRegression(featuresCol = 'scaled_pca_Features',\n",
        "                           labelCol = 'scaled_PINCP',\n",
        "                           maxIter=2)\n",
        "\n",
        "# grid of parameters to use (fitting all the combination of models) \n",
        "param_Grid = ParamGridBuilder()\\\n",
        "    .addGrid(lin_reg.regParam, [0.2, 0.1, 0.01])\\\n",
        "    .addGrid(lin_reg.fitIntercept, [False, True])\\\n",
        "    .addGrid(lin_reg.elasticNetParam, [0.0, 0.5, 1.0])\\\n",
        "    .build()\n",
        "\n",
        "\n",
        "# train-validation settings for evaluation\n",
        "train_val_split = TrainValidationSplit(estimator = lin_reg, #model \n",
        "                                       estimatorParamMaps = param_Grid, #grid of parameters\n",
        "                                       evaluator = RegressionEvaluator(labelCol ='scaled_PINCP',predictionCol = 'prediction'), #evaluator function\n",
        "                                       trainRatio = 0.8 ) #train validation split          \n",
        "\n",
        "\n",
        "# fitting the model using the best combination of parameters \n",
        "Lin_reg_model = train_val_split.fit(df_pp_train)\n",
        "\n",
        "# prediction on test data using the best fitted model\n",
        "Lin_reg_model.transform(df_pp_test)\\\n",
        "    .select('scaled_pca_Features', 'scaled_PINCP', 'prediction')\\\n",
        "    .show()"
      ],
      "execution_count": null,
      "outputs": [
        {
          "output_type": "stream",
          "text": [
            "+--------------------+--------------------+--------------------+\n",
            "| scaled_pca_Features|        scaled_PINCP|          prediction|\n",
            "+--------------------+--------------------+--------------------+\n",
            "|[-0.8787471152422...| 0.04905956112852665|0.046019226567717834|\n",
            "|[-0.0045907244093...| 0.03652037617554859|0.036005108831260235|\n",
            "|[-0.0229210835566...| 0.08111285266457681| 0.07160400809007596|\n",
            "|[-0.0980039737330...| 0.08158307210031349| 0.07201421287413995|\n",
            "|[-0.4155844841892...| 0.07452978056426332| 0.06635936160915688|\n",
            "|[-0.4416218787598...| 0.06865203761755485| 0.06171130261529782|\n",
            "|[-0.5668504395248...|0.024764890282131663|0.026599470754072374|\n",
            "|[-0.4697174443819...| 0.13197492163009406| 0.11222714738715922|\n",
            "|[-0.0442745810572...|0.014968652037617556| 0.01879291530713562|\n",
            "|[-0.2787244443170...|0.014968652037617556|0.018792874645050105|\n",
            "|[-0.4889248325296...|0.026332288401253918|0.027865022924304053|\n",
            "|[-0.3560696750987...| 0.09686520376175549| 0.08417580090222539|\n",
            "|[-0.0722094693287...|0.010658307210031349|0.015347090999465183|\n",
            "|[-0.2484698086374...|  0.0896551724137931|  0.0784241782933263|\n",
            "|[-0.8403277439045...|  0.0768808777429467| 0.06822145209774348|\n",
            "|[-0.5652412714950...| 0.06608150470219436| 0.05961445900940499|\n",
            "|[-0.0722053554095...|0.060815047021943576| 0.05540443172612553|\n",
            "|[-0.8008013694813...| 0.05768025078369906| 0.05287839638179661|\n",
            "|[-0.1933071571753...| 0.02233542319749216|  0.0246558005409176|\n",
            "|[-0.7224052696096...|0.035736677115987464| 0.03534151619631951|\n",
            "+--------------------+--------------------+--------------------+\n",
            "only showing top 20 rows\n",
            "\n"
          ],
          "name": "stdout"
        }
      ]
    },
    {
      "cell_type": "code",
      "metadata": {
        "id": "rtAbXeer1fJO",
        "colab_type": "code",
        "colab": {
          "base_uri": "https://localhost:8080/",
          "height": 52
        },
        "outputId": "b5988637-9500-4c8b-c36c-dab8c18bbeaa"
      },
      "source": [
        "#prediction on test data\n",
        "\n",
        "lin_reg_pred = Lin_reg_model.transform(df_pp_test)\n",
        "\n",
        "lin_reg_evaluator = RegressionEvaluator(\n",
        "    labelCol=\"scaled_PINCP\", predictionCol=\"prediction\", metricName=\"rmse\")\n",
        "rmse_linreg = lin_reg_evaluator.evaluate(lin_reg_pred)\n",
        "\n",
        "lin_reg_evaluator = RegressionEvaluator(\n",
        "    labelCol=\"scaled_PINCP\", predictionCol=\"prediction\", metricName=\"r2\")\n",
        "r2_linreg = lin_reg_evaluator.evaluate(lin_reg_pred)\n",
        "\n",
        "print(\"Root Mean Squared Error (RMSE) on test data = %g\" % rmse_linreg)\n",
        "print(\"R Squared (R2) on test data = %g\" % r2_linreg)"
      ],
      "execution_count": null,
      "outputs": [
        {
          "output_type": "stream",
          "text": [
            "Root Mean Squared Error (RMSE) on test data = 0.00804295\n",
            "R Squared (R2) on test data = 0.959461\n"
          ],
          "name": "stdout"
        }
      ]
    },
    {
      "cell_type": "code",
      "metadata": {
        "id": "Nu9Sl7wTRB-q",
        "colab_type": "code",
        "colab": {
          "base_uri": "https://localhost:8080/",
          "height": 52
        },
        "outputId": "33b3734d-7603-440d-d684-4d52020c74a3"
      },
      "source": [
        "#prediction on train data\n",
        "\n",
        "lin_reg_pred_t = Lin_reg_model.transform(df_pp_train)\n",
        "\n",
        "lin_reg_evaluator = RegressionEvaluator(\n",
        "    labelCol=\"scaled_PINCP\", predictionCol=\"prediction\", metricName=\"rmse\")\n",
        "rmse_linreg_t = lin_reg_evaluator.evaluate(lin_reg_pred_t)\n",
        "\n",
        "lin_reg_evaluator = RegressionEvaluator(\n",
        "    labelCol=\"scaled_PINCP\", predictionCol=\"prediction\", metricName=\"r2\")\n",
        "r2_linreg_t = lin_reg_evaluator.evaluate(lin_reg_pred_t)\n",
        "\n",
        "print(\"Root Mean Squared Error (RMSE) on train data = %g\" % rmse_linreg_t)\n",
        "print(\"R Squared (R2) on train data = %g\" % r2_linreg_t)"
      ],
      "execution_count": null,
      "outputs": [
        {
          "output_type": "stream",
          "text": [
            "Root Mean Squared Error (RMSE) on train data = 0.00799951\n",
            "R Squared (R2) on train data = 0.959459\n"
          ],
          "name": "stdout"
        }
      ]
    },
    {
      "cell_type": "code",
      "metadata": {
        "id": "rXQYUq4Ts6JJ",
        "colab_type": "code",
        "colab": {
          "base_uri": "https://localhost:8080/",
          "height": 208
        },
        "outputId": "6c3a25ef-0576-4586-e14d-843ad35445cb"
      },
      "source": [
        "## boost it! scaled\n",
        "from pyspark.ml.regression import GBTRegressor\n",
        "\n",
        "gbt = GBTRegressor(featuresCol = 'scaled_pca_Features',\n",
        "                   labelCol = 'scaled_PINCP',\n",
        "                   maxIter=3,\n",
        "                   seed = 123)\n",
        "\n",
        "# grid of parameters to use (fitting all the combination of models) \n",
        "param_Grid_gbt = ParamGridBuilder()\\\n",
        "    .addGrid(gbt.maxDepth, [2, 3, 5])\\\n",
        "    .addGrid(gbt.maxBins, [28 , 32])\\\n",
        "    .addGrid(gbt.stepSize, [0.01 , 0.05, 0.1])\\\n",
        "    .build()\n",
        "\n",
        "\n",
        "# train-validation settings for evaluation\n",
        "train_val_split_gbt = TrainValidationSplit(estimator = gbt, #model \n",
        "                                       estimatorParamMaps = param_Grid_gbt, #grid of parameters\n",
        "                                       evaluator = RegressionEvaluator(labelCol ='scaled_PINCP',predictionCol = 'prediction'), #evaluator function\n",
        "                                       trainRatio = 0.8 ) #train validation split          \n",
        "\n",
        "\n",
        "\n",
        "\n",
        "#fitting the model on train data\n",
        "gbt_model = train_val_split_gbt.fit(df_pp_train)\n",
        "\n",
        "#prediction on test data\n",
        "gbt_predictions = gbt_model.transform(df_pp_test)\n",
        "\n",
        "gbt_predictions.select('prediction','scaled_PINCP', 'PINCP', 'features').show(5)"
      ],
      "execution_count": null,
      "outputs": [
        {
          "output_type": "stream",
          "text": [
            "+--------------------+-------------------+-----+--------------------+\n",
            "|          prediction|       scaled_PINCP|PINCP|            features|\n",
            "+--------------------+-------------------+-----+--------------------+\n",
            "|0.028019379152082628|0.04905956112852665|49000|(281,[1,2,3,4,5,6...|\n",
            "|0.029054259629427783|0.03652037617554859|33000|(281,[1,2,3,4,5,6...|\n",
            "| 0.07740122372304847|0.08111285266457681|89900|(281,[1,2,3,4,5,6...|\n",
            "|  0.0861178555733775|0.08158307210031349|90500|(281,[1,2,3,4,5,6...|\n",
            "| 0.06488609699620822|0.07452978056426332|81500|(281,[1,2,3,4,5,6...|\n",
            "+--------------------+-------------------+-----+--------------------+\n",
            "only showing top 5 rows\n",
            "\n"
          ],
          "name": "stdout"
        }
      ]
    },
    {
      "cell_type": "code",
      "metadata": {
        "id": "cPVuyjoNtBt-",
        "colab_type": "code",
        "colab": {
          "base_uri": "https://localhost:8080/",
          "height": 52
        },
        "outputId": "b8ea63ec-0a43-43b2-b0b3-74d150113fb6"
      },
      "source": [
        "gbt_evaluator = RegressionEvaluator(\n",
        "    labelCol=\"scaled_PINCP\", predictionCol=\"prediction\", metricName=\"rmse\")\n",
        "rmse = gbt_evaluator.evaluate(gbt_predictions)\n",
        "\n",
        "gbt_evaluator = RegressionEvaluator(\n",
        "    labelCol=\"scaled_PINCP\", predictionCol=\"prediction\", metricName=\"r2\")\n",
        "r2 = gbt_evaluator.evaluate(gbt_predictions)\n",
        "\n",
        "print(\"Root Mean Squared Error (RMSE) on test data = %g\" % rmse)\n",
        "print(\"R Squared (R2) on test data = %g\" % r2)"
      ],
      "execution_count": null,
      "outputs": [
        {
          "output_type": "stream",
          "text": [
            "Root Mean Squared Error (RMSE) on test data = 0.0125938\n",
            "R Squared (R2) on test data = 0.900607\n"
          ],
          "name": "stdout"
        }
      ]
    },
    {
      "cell_type": "code",
      "metadata": {
        "id": "nVCqCa4LNJ4H",
        "colab_type": "code",
        "colab": {
          "base_uri": "https://localhost:8080/",
          "height": 52
        },
        "outputId": "d5457c14-81f7-426e-b0f8-28c8bd097741"
      },
      "source": [
        "##score on train\n",
        "gbt_predictions_train = gbt_model.transform(df_pp_train)\n",
        "\n",
        "gbt_evaluator = RegressionEvaluator(\n",
        "    labelCol=\"scaled_PINCP\", predictionCol=\"prediction\", metricName=\"rmse\")\n",
        "rmse_t = gbt_evaluator.evaluate(gbt_predictions_train)\n",
        "\n",
        "gbt_evaluator = RegressionEvaluator(\n",
        "    labelCol=\"scaled_PINCP\", predictionCol=\"prediction\", metricName=\"r2\")\n",
        "r2_t = gbt_evaluator.evaluate(gbt_predictions_train)\n",
        "\n",
        "print(\"Root Mean Squared Error (RMSE) on train data = %g\" % rmse_t)\n",
        "print(\"R Squared (R2) on train data = %g\" % r2_t)\n"
      ],
      "execution_count": null,
      "outputs": [
        {
          "output_type": "stream",
          "text": [
            "Root Mean Squared Error (RMSE) on test data = 0.0124974\n",
            "R Squared (R2) on test data = 0.901053\n"
          ],
          "name": "stdout"
        }
      ]
    }
  ]
}
