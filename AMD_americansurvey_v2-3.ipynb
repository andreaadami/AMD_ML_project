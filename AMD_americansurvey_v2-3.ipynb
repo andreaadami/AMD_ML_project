{
  "nbformat": 4,
  "nbformat_minor": 0,
  "metadata": {
    "colab": {
      "name": "AMD_americansurvey_v2.ipynb",
      "provenance": [],
      "collapsed_sections": []
    },
    "kernelspec": {
      "name": "python3",
      "display_name": "Python 3"
    }
  },
  "cells": [
    {
      "cell_type": "code",
      "metadata": {
        "id": "xtfra_bImYH4",
        "colab_type": "code",
        "colab": {
          "base_uri": "https://localhost:8080/",
          "height": 277
        },
        "outputId": "e268e791-5ddc-4244-c2d9-6eac778bfbad"
      },
      "source": [
        "# don't know why but need an update\n",
        "!sudo apt update\n",
        "# install Java8\n",
        "!apt-get install openjdk-8-jdk-headless -qq > /dev/null\n",
        "# download spark3.0.1\n",
        "!wget -q http://apache.osuosl.org/spark/spark-3.0.1/spark-3.0.1-bin-hadoop3.2.tgz\n",
        "# unzip it\n",
        "!tar xf spark-3.0.1-bin-hadoop3.2.tgz\n",
        "# install findspark \n",
        "!pip install -q findspark"
      ],
      "execution_count": 6,
      "outputs": [
        {
          "output_type": "stream",
          "text": [
            "\u001b[33m\r0% [Working]\u001b[0m\r            \rHit:1 https://cloud.r-project.org/bin/linux/ubuntu bionic-cran35/ InRelease\n",
            "\u001b[33m\r0% [Connecting to archive.ubuntu.com (91.189.88.152)] [Connecting to security.u\u001b[0m\u001b[33m\r0% [1 InRelease gpgv 3,626 B] [Connecting to archive.ubuntu.com (91.189.88.152)\u001b[0m\r                                                                               \rIgn:2 https://developer.download.nvidia.com/compute/cuda/repos/ubuntu1804/x86_64  InRelease\n",
            "\u001b[33m\r0% [1 InRelease gpgv 3,626 B] [Connecting to archive.ubuntu.com (91.189.88.152)\u001b[0m\r                                                                               \rIgn:3 https://developer.download.nvidia.com/compute/machine-learning/repos/ubuntu1804/x86_64  InRelease\n",
            "\u001b[33m\r0% [1 InRelease gpgv 3,626 B] [Connecting to archive.ubuntu.com (91.189.88.152)\u001b[0m\r                                                                               \rHit:4 https://developer.download.nvidia.com/compute/cuda/repos/ubuntu1804/x86_64  Release\n",
            "Hit:5 https://developer.download.nvidia.com/compute/machine-learning/repos/ubuntu1804/x86_64  Release\n",
            "Hit:7 http://archive.ubuntu.com/ubuntu bionic InRelease\n",
            "Hit:8 http://security.ubuntu.com/ubuntu bionic-security InRelease\n",
            "Hit:9 http://ppa.launchpad.net/graphics-drivers/ppa/ubuntu bionic InRelease\n",
            "Hit:11 http://archive.ubuntu.com/ubuntu bionic-updates InRelease\n",
            "Hit:12 http://archive.ubuntu.com/ubuntu bionic-backports InRelease\n",
            "Hit:13 http://ppa.launchpad.net/marutter/c2d4u3.5/ubuntu bionic InRelease\n",
            "Reading package lists... Done\n",
            "Building dependency tree       \n",
            "Reading state information... Done\n",
            "77 packages can be upgraded. Run 'apt list --upgradable' to see them.\n"
          ],
          "name": "stdout"
        }
      ]
    },
    {
      "cell_type": "code",
      "metadata": {
        "id": "6ZmV-nYpmqJT",
        "colab_type": "code",
        "colab": {}
      },
      "source": [
        "import os\n",
        "os.environ[\"JAVA_HOME\"] = \"/usr/lib/jvm/java-8-openjdk-amd64\"\n",
        "os.environ[\"SPARK_HOME\"] = \"/content/spark-3.0.1-bin-hadoop3.2\"\n",
        "\n",
        "import findspark\n",
        "findspark.init()"
      ],
      "execution_count": 7,
      "outputs": []
    },
    {
      "cell_type": "code",
      "metadata": {
        "id": "ML93dkNvmyd-",
        "colab_type": "code",
        "colab": {
          "resources": {
            "http://localhost:8080/nbextensions/google.colab/files.js": {
              "data": "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",
              "ok": true,
              "headers": [
                [
                  "content-type",
                  "application/javascript"
                ]
              ],
              "status": 200,
              "status_text": ""
            }
          },
          "base_uri": "https://localhost:8080/",
          "height": 86
        },
        "outputId": "aa7445f6-5bd1-48bf-f214-715337d0a1a4"
      },
      "source": [
        "from google.colab import files\n",
        "files.upload()"
      ],
      "execution_count": 8,
      "outputs": [
        {
          "output_type": "display_data",
          "data": {
            "text/html": [
              "\n",
              "     <input type=\"file\" id=\"files-ec61f3ac-c9c4-4e20-ac28-aae8e359daa5\" name=\"files[]\" multiple disabled\n",
              "        style=\"border:none\" />\n",
              "     <output id=\"result-ec61f3ac-c9c4-4e20-ac28-aae8e359daa5\">\n",
              "      Upload widget is only available when the cell has been executed in the\n",
              "      current browser session. Please rerun this cell to enable.\n",
              "      </output>\n",
              "      <script src=\"/nbextensions/google.colab/files.js\"></script> "
            ],
            "text/plain": [
              "<IPython.core.display.HTML object>"
            ]
          },
          "metadata": {
            "tags": []
          }
        },
        {
          "output_type": "stream",
          "text": [
            "Saving kaggle.json to kaggle.json\n"
          ],
          "name": "stdout"
        },
        {
          "output_type": "execute_result",
          "data": {
            "text/plain": [
              "{'kaggle.json': b'{\"username\":\"andreaadami\",\"key\":\"24de4196d6cdef6c1a7c6e7ec023b6a3\"}'}"
            ]
          },
          "metadata": {
            "tags": []
          },
          "execution_count": 8
        }
      ]
    },
    {
      "cell_type": "code",
      "metadata": {
        "id": "RdmSqBGQm7-N",
        "colab_type": "code",
        "colab": {
          "base_uri": "https://localhost:8080/",
          "height": 69
        },
        "outputId": "c8535638-9fec-4ed7-bb05-ac42b286c529"
      },
      "source": [
        "# run this code in order to provide the API and connect to Kaggle\n",
        "!mkdir -p ~/.kaggle\n",
        "!cp kaggle.json ~/.kaggle/\n",
        "!chmod 600 ~/.kaggle/kaggle.json\n",
        "# this command is used to access \"census/2013...\" and download the zip file\n",
        "!kaggle datasets download -d census/2013-american-community-survey"
      ],
      "execution_count": 10,
      "outputs": [
        {
          "output_type": "stream",
          "text": [
            "Downloading 2013-american-community-survey.zip to /content\n",
            "100% 916M/916M [00:10<00:00, 104MB/s]\n",
            "100% 916M/916M [00:10<00:00, 88.8MB/s]\n"
          ],
          "name": "stdout"
        }
      ]
    },
    {
      "cell_type": "code",
      "metadata": {
        "id": "UQr-FYPdm8PC",
        "colab_type": "code",
        "colab": {}
      },
      "source": [
        "# now that everything is set, we need to unzip the file and load in the notebook \n",
        "import zipfile\n",
        "zip_ref = zipfile.ZipFile('2013-american-community-survey.zip', 'r')\n",
        "zip_ref.extractall('files')\n",
        "zip_ref.close()"
      ],
      "execution_count": 11,
      "outputs": []
    },
    {
      "cell_type": "code",
      "metadata": {
        "id": "oC8Uu4U_m8Lg",
        "colab_type": "code",
        "colab": {}
      },
      "source": [
        "import matplotlib.pyplot as plt\n",
        "import pandas as pd\n",
        "import numpy as np\n",
        "import pandas as pd\n",
        "import librosa\n",
        "import statistics \n",
        "import glob\n",
        "import plotly.express as px\n",
        "from pathlib import Path\n",
        "from pyspark.ml.linalg import Vectors\n",
        "from pyspark.ml.feature import VectorAssembler  \n",
        "from pyspark.ml.evaluation import ClusteringEvaluator\n",
        "from pyspark.ml.clustering import BisectingKMeans\n",
        "from pyspark.ml.stat import Correlation\n",
        "from pyspark.ml.feature import PCA\n",
        "from pyspark.sql import SparkSession\n",
        "from pyspark.sql.types import *\n",
        "from pyspark.sql.functions import *"
      ],
      "execution_count": 12,
      "outputs": []
    },
    {
      "cell_type": "code",
      "metadata": {
        "id": "IM_CqJ5Om8H_",
        "colab_type": "code",
        "colab": {}
      },
      "source": [
        "# Build the SparkSession\n",
        "spark = SparkSession.builder \\\n",
        "   .master(\"local\") \\\n",
        "   .appName(\"Linear Regression Model\") \\\n",
        "   .config(\"spark.executor.memory\", \"2gb\") \\\n",
        "   .getOrCreate()\n",
        "   \n",
        "sc = spark.sparkContext"
      ],
      "execution_count": 13,
      "outputs": []
    },
    {
      "cell_type": "code",
      "metadata": {
        "id": "0ni_SXJBnSq2",
        "colab_type": "code",
        "colab": {
          "base_uri": "https://localhost:8080/",
          "height": 176
        },
        "outputId": "d20b7c86-9bde-4607-d677-bd6b0f9e0474"
      },
      "source": [
        "data_a = spark.read.csv('/content/files/ss13pusa.csv',header=True, inferSchema=True)#load the data and get a row (this is a dataframe)\n",
        "data_b = spark.read.csv('/content/files/ss13pusb.csv',header=True, inferSchema=True) \n",
        "\n",
        "data = data_a.union(data_b)\n",
        "\n",
        "data.show(2)"
      ],
      "execution_count": 14,
      "outputs": [
        {
          "output_type": "stream",
          "text": [
            "+---+--------+-------+----+---+-------+-----+----+---+-----+----+----+----+----+----+----+----+-----+----+----+----+----+----+----+-----+-----+-----+-----+-----+-----+-----+----+-----+-----+----+----+---+-----+-----+-----+-----+------+---+---+----+----+-----+----+-----+----+----+----+----+----+----+----+----+----+---+---+----+----+---+----+----+----+---+----+---+-----+----+---+----+---+----+---+-----+-----+------+---+-------+----+---+-----+-----+-----+----+----+----+----+----+-------+-----+---+------+--------+----+---+----+----+-----+-----+----+------+-------+-----+-------+------+------+-----+-----+-----+-------+------+------+-----+------+-----+------+------+---+-------+---------+----+----+------+----+----+-----+-----+-----+------+-----+------+------+------+-----+------+------+------+-------+------+-----+-----+-----+-----+-----+-----+-----+-------+-------+-------+-------+-------+-------+-------+-------+-------+-------+-----+-----+-----+-----+------+------+------+-----+------+-------+-------+-------+-------+-------+-----+-----+------+------+------+-----+----+----+------+------+-----+------+---------+--------+-----+-----+-----+------+------+-----+-----+-----+-----+----+-----+-----+-----+-----+-----+-----+------+------+------+------+------+------+------+------+------+-------+-------+-------+-------+-------+-------+-------+-------+-------+-------+-------+-------+-------+-------+-------+-------+-------+-------+-------+-------+-------+-------+-------+-------+-------+-------+-------+-------+-------+-------+-------+-------+-------+-------+-------+-------+-------+-------+-------+-------+-------+-------+-------+-------+-------+-------+-------+-------+-------+-------+-------+-------+-------+-------+-------+-------+-------+-------+-------+-------+-------+-------+-------+-------+-------+-------+-------+-------+-------+-------+-------+\n",
            "| RT|SERIALNO|SPORDER|PUMA| ST| ADJINC|PWGTP|AGEP|CIT|CITWP| COW|DDRS|DEAR|DEYE|DOUT|DPHY|DRAT|DRATX|DREM| ENG| FER| GCL| GCM| GCR|HINS1|HINS2|HINS3|HINS4|HINS5|HINS6|HINS7|INTP|JWMNP|JWRIP|JWTR|LANX|MAR|MARHD|MARHM|MARHT|MARHW|MARHYP|MIG|MIL|MLPA|MLPB|MLPCD|MLPE|MLPFG|MLPH|MLPI|MLPJ|MLPK|NWAB|NWAV|NWLA|NWLK|NWRE|OIP|PAP|RELP|RETP|SCH|SCHG|SCHL|SEMP|SEX|SSIP|SSP| WAGP|WKHP|WKL| WKW|WRK|YOEP|ANC|ANC1P|ANC2P|DECADE|DIS|DRIVESP| ESP|ESR|FOD1P|FOD2P|HICOV|HISP|INDP|JWAP|JWDP|LANP|MIGPUMA|MIGSP|MSP|NAICSP|NATIVITY| NOP| OC|OCCP|PAOC|PERNP|PINCP|POBP|POVPIP|POWPUMA|POWSP|PRIVCOV|PUBCOV|QTRBIR|RAC1P|RAC2P|RAC3P|RACAIAN|RACASN|RACBLK|RACNH|RACNUM|RACPI|RACSOR|RACWHT| RC|SCIENGP|SCIENGRLP| SFN| SFR|  SOCP| VPS|WAOB|FAGEP|FANCP|FCITP|FCITWP|FCOWP|FDDRSP|FDEARP|FDEYEP|FDISP|FDOUTP|FDPHYP|FDRATP|FDRATXP|FDREMP|FENGP|FESRP|FFERP|FFODP|FGCLP|FGCMP|FGCRP|FHINS1P|FHINS2P|FHINS3C|FHINS3P|FHINS4C|FHINS4P|FHINS5C|FHINS5P|FHINS6P|FHINS7P|FHISP|FINDP|FINTP|FJWDP|FJWMNP|FJWRIP|FJWTRP|FLANP|FLANXP|FMARHDP|FMARHMP|FMARHTP|FMARHWP|FMARHYP|FMARP|FMIGP|FMIGSP|FMILPP|FMILSP|FOCCP|FOIP|FPAP|FPERNP|FPINCP|FPOBP|FPOWSP|FPRIVCOVP|FPUBCOVP|FRACP|FRELP|FRETP|FSCHGP|FSCHLP|FSCHP|FSEMP|FSEXP|FSSIP|FSSP|FWAGP|FWKHP|FWKLP|FWKWP|FWRKP|FYOEP|pwgtp1|pwgtp2|pwgtp3|pwgtp4|pwgtp5|pwgtp6|pwgtp7|pwgtp8|pwgtp9|pwgtp10|pwgtp11|pwgtp12|pwgtp13|pwgtp14|pwgtp15|pwgtp16|pwgtp17|pwgtp18|pwgtp19|pwgtp20|pwgtp21|pwgtp22|pwgtp23|pwgtp24|pwgtp25|pwgtp26|pwgtp27|pwgtp28|pwgtp29|pwgtp30|pwgtp31|pwgtp32|pwgtp33|pwgtp34|pwgtp35|pwgtp36|pwgtp37|pwgtp38|pwgtp39|pwgtp40|pwgtp41|pwgtp42|pwgtp43|pwgtp44|pwgtp45|pwgtp46|pwgtp47|pwgtp48|pwgtp49|pwgtp50|pwgtp51|pwgtp52|pwgtp53|pwgtp54|pwgtp55|pwgtp56|pwgtp57|pwgtp58|pwgtp59|pwgtp60|pwgtp61|pwgtp62|pwgtp63|pwgtp64|pwgtp65|pwgtp66|pwgtp67|pwgtp68|pwgtp69|pwgtp70|pwgtp71|pwgtp72|pwgtp73|pwgtp74|pwgtp75|pwgtp76|pwgtp77|pwgtp78|pwgtp79|pwgtp80|\n",
            "+---+--------+-------+----+---+-------+-----+----+---+-----+----+----+----+----+----+----+----+-----+----+----+----+----+----+----+-----+-----+-----+-----+-----+-----+-----+----+-----+-----+----+----+---+-----+-----+-----+-----+------+---+---+----+----+-----+----+-----+----+----+----+----+----+----+----+----+----+---+---+----+----+---+----+----+----+---+----+---+-----+----+---+----+---+----+---+-----+-----+------+---+-------+----+---+-----+-----+-----+----+----+----+----+----+-------+-----+---+------+--------+----+---+----+----+-----+-----+----+------+-------+-----+-------+------+------+-----+-----+-----+-------+------+------+-----+------+-----+------+------+---+-------+---------+----+----+------+----+----+-----+-----+-----+------+-----+------+------+------+-----+------+------+------+-------+------+-----+-----+-----+-----+-----+-----+-----+-------+-------+-------+-------+-------+-------+-------+-------+-------+-------+-----+-----+-----+-----+------+------+------+-----+------+-------+-------+-------+-------+-------+-----+-----+------+------+------+-----+----+----+------+------+-----+------+---------+--------+-----+-----+-----+------+------+-----+-----+-----+-----+----+-----+-----+-----+-----+-----+-----+------+------+------+------+------+------+------+------+------+-------+-------+-------+-------+-------+-------+-------+-------+-------+-------+-------+-------+-------+-------+-------+-------+-------+-------+-------+-------+-------+-------+-------+-------+-------+-------+-------+-------+-------+-------+-------+-------+-------+-------+-------+-------+-------+-------+-------+-------+-------+-------+-------+-------+-------+-------+-------+-------+-------+-------+-------+-------+-------+-------+-------+-------+-------+-------+-------+-------+-------+-------+-------+-------+-------+-------+-------+-------+-------+-------+-------+\n",
            "|  P|      84|      1|2600|  1|1007549|   65|  19|  1| null|null|   2|   2|   2|   2|   2|null| null|   2|null|   2|null|null|null|    1|    2|    2|    2|    2|    2|    2|   0| null| null|null|   2|  5| null| null| null| null|  null|  1|  4|null|null| null|null| null|null|null|null|null|   2|   5|   2|   2|   3|  0|  0|  17|   0|  2|  15|  19|   0|  2|   0|  0|    0|null|  3|null|  2|null|  4|  999|  999|  null|  2|   null|null|  6| null| null|    1|   1|null|null|null|null|   null| null|  6|  null|       1|null|  0|null|null|    0|    0|  28|  null|   null| null|      1|     2|     1|    1|    1|    1|      0|     0|     0|    0|     1|    0|     0|     1|  0|   null|     null|null|null|  null|null|   1|    0|    0|    0|     0|    0|     0|     0|     0|    0|     0|     0|     0|      0|     0|    0|    0|    0|    0|    0|    0|    0|      0|      0|   null|      0|   null|      0|   null|      0|      0|      0|    0|    0|    0|    0|     0|     0|     0|    0|     0|      0|      0|      0|      0|      0|    0|    0|     0|     0|     0|    0|   0|   0|     0|     0|    0|     0|        0|       0|    0|    0|    0|     0|     0|    0|    0|    0|    0|   0|    0|    0|    0|    0|    0|    0|     5|   127|    65|    66|    69|     5|   120|    66|    63|      5|     67|      6|      5|    137|    124|     65|     66|     64|     63|      6|    131|      6|     62|     63|     60|    126|      6|     66|     68|    120|     66|    126|    115|      5|      5|     63|     66|     66|     62|      5|    118|      6|     64|     66|     62|    124|      6|     63|     68|    132|     62|    119|    126|      6|      5|     68|     72|     65|     66|    125|      5|    123|     62|     64|     65|      6|    123|     65|     67|      6|     68|      6|      5|    127|    119|     63|     68|     67|     64|    122|\n",
            "|  P|     154|      1|2500|  1|1007549|   51|  55|  1| null|   1|   2|   2|   2|   2|   2|null| null|   2|null|null|   2|null|null|    1|    2|    2|    2|    2|    2|    2|   0|   30|    1|   1|   2|  1|    2|    2|    1|    2|  1990|  1|  4|null|null| null|null| null|null|null|null|null|   3|   5|   3|   3|   3|  0|  0|   0|   0|  1|null|  20|   0|  2|   0|  0|52000|  40|  1|   1|  1|null|  1|  902|  999|  null|  2|      1|null|  1| null| null|    1|   1|5380| 100|  55|null|   null| null|  1| 45211|       1|null|  0|4700|   4|52000|52000|   1|   501|   2500|    1|      1|     2|     1|    2|    2|    2|      0|     0|     1|    0|     1|    0|     0|     0|  0|   null|     null|null|null|411011|null|   1|    0|    0|    0|     0|    0|     0|     0|     0|    0|     0|     0|     0|      0|     0|    0|    0|    0|    0|    0|    0|    0|      0|      0|   null|      0|   null|      0|   null|      0|      0|      0|    0|    0|    0|    0|     0|     0|     0|    0|     0|      0|      0|      0|      0|      0|    0|    0|     0|     0|     0|    0|   0|   0|     1|     1|    0|     0|        0|       0|    0|    0|    0|     0|     0|    0|    0|    0|    0|   0|    1|    0|    0|    0|    0|    0|    45|    51|    53|    50|   100|    79|    78|    50|    19|     57|     89|     46|     67|    109|     50|     18|     17|     18|     46|     88|     49|     50|     49|     65|     13|     16|     16|     54|     85|     48|     14|     49|     50|     11|     56|     83|     71|    108|     54|     81|     43|     52|     50|     63|     17|     15|     15|     47|     88|     47|     13|     51|     52|     20|     53|     84|     78|     75|     53|     15|     55|     55|     58|     65|    110|     82|     90|     50|     12|     55|     87|     52|     60|     84|     50|     15|     15|     20|     50|     16|\n",
            "+---+--------+-------+----+---+-------+-----+----+---+-----+----+----+----+----+----+----+----+-----+----+----+----+----+----+----+-----+-----+-----+-----+-----+-----+-----+----+-----+-----+----+----+---+-----+-----+-----+-----+------+---+---+----+----+-----+----+-----+----+----+----+----+----+----+----+----+----+---+---+----+----+---+----+----+----+---+----+---+-----+----+---+----+---+----+---+-----+-----+------+---+-------+----+---+-----+-----+-----+----+----+----+----+----+-------+-----+---+------+--------+----+---+----+----+-----+-----+----+------+-------+-----+-------+------+------+-----+-----+-----+-------+------+------+-----+------+-----+------+------+---+-------+---------+----+----+------+----+----+-----+-----+-----+------+-----+------+------+------+-----+------+------+------+-------+------+-----+-----+-----+-----+-----+-----+-----+-------+-------+-------+-------+-------+-------+-------+-------+-------+-------+-----+-----+-----+-----+------+------+------+-----+------+-------+-------+-------+-------+-------+-----+-----+------+------+------+-----+----+----+------+------+-----+------+---------+--------+-----+-----+-----+------+------+-----+-----+-----+-----+----+-----+-----+-----+-----+-----+-----+------+------+------+------+------+------+------+------+------+-------+-------+-------+-------+-------+-------+-------+-------+-------+-------+-------+-------+-------+-------+-------+-------+-------+-------+-------+-------+-------+-------+-------+-------+-------+-------+-------+-------+-------+-------+-------+-------+-------+-------+-------+-------+-------+-------+-------+-------+-------+-------+-------+-------+-------+-------+-------+-------+-------+-------+-------+-------+-------+-------+-------+-------+-------+-------+-------+-------+-------+-------+-------+-------+-------+-------+-------+-------+-------+-------+-------+\n",
            "only showing top 2 rows\n",
            "\n"
          ],
          "name": "stdout"
        }
      ]
    },
    {
      "cell_type": "code",
      "metadata": {
        "id": "sPrmbgvCrbfv",
        "colab_type": "code",
        "colab": {}
      },
      "source": [
        "#transforming all the dataframe columns to int for correctly fill Nan and null value\n",
        "\n",
        "from pyspark.sql.types import IntegerType\n",
        "for col in data.columns:\n",
        "  data = data.withColumn(col,data[col].cast(IntegerType()))\n",
        "\n",
        "data = data.na.fill(0) "
      ],
      "execution_count": 15,
      "outputs": []
    },
    {
      "cell_type": "code",
      "metadata": {
        "id": "Nvq4I5uWrfLk",
        "colab_type": "code",
        "colab": {
          "base_uri": "https://localhost:8080/",
          "height": 208
        },
        "outputId": "7a554191-5a2d-496e-8ed9-6a2cb3d93a85"
      },
      "source": [
        "#removing the PERNP column\n",
        "new_col = data.columns\n",
        "new_col.remove('PERNP')\n",
        "new_col.remove('PINCP')\n",
        "\n",
        "\n",
        "\n",
        "\n",
        "vectorAssembler = VectorAssembler(inputCols = new_col,    \n",
        "                                  outputCol = 'features') \n",
        "\n",
        "\n",
        "df_full = vectorAssembler.transform(data)\n",
        "df_full = df_full.select(['features', 'PINCP'])\n",
        "df_full.show(5)"
      ],
      "execution_count": 16,
      "outputs": [
        {
          "output_type": "stream",
          "text": [
            "+--------------------+-----+\n",
            "|            features|PINCP|\n",
            "+--------------------+-----+\n",
            "|(281,[1,2,3,4,5,6...|    0|\n",
            "|(281,[1,2,3,4,5,6...|52000|\n",
            "|(281,[1,2,3,4,5,6...|99000|\n",
            "|(281,[1,2,3,4,5,6...|    0|\n",
            "|(281,[1,2,3,4,5,6...|    0|\n",
            "+--------------------+-----+\n",
            "only showing top 5 rows\n",
            "\n"
          ],
          "name": "stdout"
        }
      ]
    },
    {
      "cell_type": "code",
      "metadata": {
        "id": "DcNU7Ig_rvpE",
        "colab_type": "code",
        "colab": {
          "base_uri": "https://localhost:8080/",
          "height": 208
        },
        "outputId": "a00531a9-0cc2-47af-b1e5-a3eb48d24cab"
      },
      "source": [
        "from pyspark.ml.feature import PCA\n",
        "from pyspark.ml.linalg import Vectors\n",
        "\n",
        "pca = PCA(k=20, \n",
        "          inputCol=\"features\", \n",
        "          outputCol=\"pcaFeatures\")\n",
        "\n",
        "model = pca.fit(df_full)\n",
        "\n",
        "result = model.transform(df_full)\n",
        "result.show(5)"
      ],
      "execution_count": 17,
      "outputs": [
        {
          "output_type": "stream",
          "text": [
            "+--------------------+-----+--------------------+\n",
            "|            features|PINCP|         pcaFeatures|\n",
            "+--------------------+-----+--------------------+\n",
            "|(281,[1,2,3,4,5,6...|    0|[-84.065349464680...|\n",
            "|(281,[1,2,3,4,5,6...|52000|[-239.98024490026...|\n",
            "|(281,[1,2,3,4,5,6...|99000|[-260.53340347800...|\n",
            "|(281,[1,2,3,4,5,6...|    0|[-154.06172172305...|\n",
            "|(281,[1,2,3,4,5,6...|    0|[-154.06242385407...|\n",
            "+--------------------+-----+--------------------+\n",
            "only showing top 5 rows\n",
            "\n"
          ],
          "name": "stdout"
        }
      ]
    },
    {
      "cell_type": "code",
      "metadata": {
        "id": "PrhiCWB-sCdi",
        "colab_type": "code",
        "colab": {
          "base_uri": "https://localhost:8080/",
          "height": 156
        },
        "outputId": "5141c045-3aec-4ca1-b966-8b649c4fd1f1"
      },
      "source": [
        "from pyspark.ml.feature import MinMaxScaler\n",
        "from pyspark.ml.feature import MaxAbsScaler\n",
        "from pyspark.sql.functions import col\n",
        "# train test split \n",
        "split_df_pp = result.randomSplit([0.75, 0.25])\n",
        "df_train = split_df_pp[0]\n",
        "df_test = split_df_pp[1]\n",
        "\n",
        "#here we can put a good condition on PINCP > 0 \n",
        "\n",
        "\n",
        "##Scaling DenseVector (input)\n",
        "\n",
        "#maxAbs scaler\n",
        "scaler = MaxAbsScaler(inputCol=\"pcaFeatures\", outputCol=\"scaled_pca_Features\")\n",
        "scalerModel = scaler.fit(df_train)\n",
        "#scaled train\n",
        "df_pp_train = scalerModel.transform(df_train)\n",
        "#scaled test\n",
        "df_pp_test = scalerModel.transform(df_test) #it is transformed in accordance with range of train\n",
        "\n",
        "\n",
        "\n",
        "##Scaling Target variable (PINCP)\n",
        "\n",
        "min_ = df_pp_train.agg({\"PINCP\": \"min\"}).collect()[0][0]\n",
        "max_ = df_pp_train.agg({\"PINCP\": \"max\"}).collect()[0][0]\n",
        "\n",
        "#scaled train\n",
        "df_pp_train = df_pp_train.withColumn('scaled_PINCP', (col('PINCP') - min_ )/ max_)\n",
        "#scaled test\n",
        "df_pp_test = df_pp_test.withColumn('scaled_PINCP', (col('PINCP')-min_ )/ max_) #it is transformed in accordance with range of train\n",
        "\n",
        "\n",
        "df_pp_train.show(2)"
      ],
      "execution_count": 18,
      "outputs": [
        {
          "output_type": "stream",
          "text": [
            "+--------------------+-----+--------------------+--------------------+-------------------+\n",
            "|            features|PINCP|         pcaFeatures| scaled_pca_Features|       scaled_PINCP|\n",
            "+--------------------+-----+--------------------+--------------------+-------------------+\n",
            "|(281,[1,2,3,4,5,6...|76400|[-1346063.6211065...|[-0.9015539176260...|0.06947697111631537|\n",
            "|(281,[1,2,3,4,5,6...|45880|[-577225.43648477...|[-0.3866086605835...|0.04565183450429352|\n",
            "+--------------------+-----+--------------------+--------------------+-------------------+\n",
            "only showing top 2 rows\n",
            "\n"
          ],
          "name": "stdout"
        }
      ]
    },
    {
      "cell_type": "code",
      "metadata": {
        "id": "Y4hPfyD3ztWi",
        "colab_type": "code",
        "colab": {
          "base_uri": "https://localhost:8080/",
          "height": 208
        },
        "outputId": "2a82684d-640b-4a03-e2c4-076a9cd4410f"
      },
      "source": [
        "## boost it! scaled\n",
        "from pyspark.ml.regression import GBTRegressor\n",
        "\n",
        "gbt = GBTRegressor(featuresCol = 'scaled_pca_Features', \n",
        "                   labelCol = 'scaled_PINCP',\n",
        "                   maxIter=10,\n",
        "                   #maxDepth = ,\n",
        "                   #stepSize = ,\n",
        "                   seed = 123,\n",
        "                   )\n",
        "\n",
        "#fitting the model on train data\n",
        "gbt_model = gbt.fit(df_pp_train)\n",
        "\n",
        "#prediction on test data\n",
        "gbt_predictions = gbt_model.transform(df_pp_test)\n",
        "\n",
        "gbt_predictions.select('prediction','scaled_PINCP', 'PINCP', 'features').show(5)"
      ],
      "execution_count": 19,
      "outputs": [
        {
          "output_type": "stream",
          "text": [
            "+--------------------+--------------------+-----+--------------------+\n",
            "|          prediction|        scaled_PINCP|PINCP|            features|\n",
            "+--------------------+--------------------+-----+--------------------+\n",
            "| 0.03296195224557169|0.035597189695550355|33000|(281,[1,2,3,4,5,6...|\n",
            "| 0.03903994302887487| 0.04457455113192818|44500|(281,[1,2,3,4,5,6...|\n",
            "| 0.02708350396685353|0.027478532396565183|22600|(281,[1,2,3,4,5,6...|\n",
            "| 0.06565301875172624| 0.06760343481654957|74000|(281,[1,2,3,4,5,6...|\n",
            "|0.024754881410869792|0.023887587822014052|18000|(281,[1,2,3,4,5,6...|\n",
            "+--------------------+--------------------+-----+--------------------+\n",
            "only showing top 5 rows\n",
            "\n"
          ],
          "name": "stdout"
        }
      ]
    },
    {
      "cell_type": "code",
      "metadata": {
        "id": "E6k_VH6mDoA8",
        "colab_type": "code",
        "colab": {
          "base_uri": "https://localhost:8080/",
          "height": 52
        },
        "outputId": "055e9d38-1c53-44c6-f5b2-fa30861db721"
      },
      "source": [
        "from pyspark.ml.evaluation import RegressionEvaluator\n",
        "gbt_evaluator = RegressionEvaluator(\n",
        "    labelCol=\"scaled_PINCP\", predictionCol=\"prediction\", metricName=\"rmse\")\n",
        "rmse = gbt_evaluator.evaluate(gbt_predictions)\n",
        "\n",
        "gbt_evaluator = RegressionEvaluator(\n",
        "    labelCol=\"scaled_PINCP\", predictionCol=\"prediction\", metricName=\"r2\")\n",
        "r2 = gbt_evaluator.evaluate(gbt_predictions)\n",
        "\n",
        "print(\"Root Mean Squared Error (RMSE) on test data = %g\" % rmse)\n",
        "print(\"R Squared (R2) on test data = %g\" % r2)"
      ],
      "execution_count": 20,
      "outputs": [
        {
          "output_type": "stream",
          "text": [
            "Root Mean Squared Error (RMSE) on test data = 0.0103397\n",
            "R Squared (R2) on test data = 0.932374\n"
          ],
          "name": "stdout"
        }
      ]
    },
    {
      "cell_type": "code",
      "metadata": {
        "id": "8MbcdEMEJ15u",
        "colab_type": "code",
        "colab": {}
      },
      "source": [
        ""
      ],
      "execution_count": null,
      "outputs": []
    }
  ]
}